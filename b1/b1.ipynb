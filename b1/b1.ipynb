{
 "cells": [
  {
   "cell_type": "code",
   "execution_count": 1,
   "id": "initial_id",
   "metadata": {
    "collapsed": true,
    "ExecuteTime": {
     "end_time": "2024-06-25T20:15:50.753733300Z",
     "start_time": "2024-06-25T20:15:49.591964200Z"
    }
   },
   "outputs": [],
   "source": [
    "import pandas as pd\n",
    "import pyodbc\n",
    "import os\n",
    "import numpy as np\n",
    "import openpyxl\n",
    "from openpyxl import load_workbook\n",
    "import requests\n",
    "from datetime import datetime"
   ]
  },
  {
   "cell_type": "code",
   "execution_count": 2,
   "outputs": [],
   "source": [
    "current_dir = r'L:\\Stat\\IDB\\Requests\\2019\\MFN trade briefing'\n",
    "os.chdir(current_dir)"
   ],
   "metadata": {
    "collapsed": false,
    "ExecuteTime": {
     "end_time": "2024-06-25T20:17:03.648461900Z",
     "start_time": "2024-06-25T20:16:44.586122100Z"
    }
   },
   "id": "bad17e0354457041"
  },
  {
   "cell_type": "code",
   "execution_count": 3,
   "outputs": [],
   "source": [
    "actuals = pd.read_csv(r'L:\\Stat\\IDB\\Requests\\2019\\MFN trade briefing\\2 files\\actuals2.csv')"
   ],
   "metadata": {
    "collapsed": false,
    "ExecuteTime": {
     "end_time": "2024-06-25T20:20:19.421892900Z",
     "start_time": "2024-06-25T20:20:13.787333800Z"
    }
   },
   "id": "34614497df7996fe"
  },
  {
   "cell_type": "code",
   "execution_count": 4,
   "outputs": [
    {
     "name": "stdout",
     "output_type": "stream",
     "text": [
      "   Reporter_code  Year\n",
      "0           C036  2017\n",
      "1           C036  2018\n",
      "2           C036  2019\n",
      "3           C036  2020\n",
      "4           C036  2021\n",
      "..           ...   ...\n",
      "59          C840  2018\n",
      "60          C840  2019\n",
      "61          C840  2020\n",
      "62          C840  2021\n",
      "63          C840  2022\n",
      "\n",
      "[64 rows x 2 columns]\n"
     ]
    }
   ],
   "source": [
    "print(actuals)"
   ],
   "metadata": {
    "collapsed": false,
    "ExecuteTime": {
     "end_time": "2024-06-25T20:21:14.564175Z",
     "start_time": "2024-06-25T20:21:14.459894100Z"
    }
   },
   "id": "9cbe18b0527dde1a"
  },
  {
   "cell_type": "code",
   "execution_count": null,
   "outputs": [],
   "source": [],
   "metadata": {
    "collapsed": false
   },
   "id": "3a9fe0ef341d7131"
  }
 ],
 "metadata": {
  "kernelspec": {
   "display_name": "Python 3",
   "language": "python",
   "name": "python3"
  },
  "language_info": {
   "codemirror_mode": {
    "name": "ipython",
    "version": 2
   },
   "file_extension": ".py",
   "mimetype": "text/x-python",
   "name": "python",
   "nbconvert_exporter": "python",
   "pygments_lexer": "ipython2",
   "version": "2.7.6"
  }
 },
 "nbformat": 4,
 "nbformat_minor": 5
}
